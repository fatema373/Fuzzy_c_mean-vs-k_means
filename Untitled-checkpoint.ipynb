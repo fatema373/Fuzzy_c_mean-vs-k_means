{
 "cells": [
  {
   "cell_type": "code",
   "execution_count": 1,
   "id": "0fc5307b",
   "metadata": {},
   "outputs": [
    {
     "name": "stderr",
     "output_type": "stream",
     "text": [
      "G:\\anaconda\\lib\\site-packages\\scipy\\__init__.py:146: UserWarning: A NumPy version >=1.16.5 and <1.23.0 is required for this version of SciPy (detected version 1.23.3\n",
      "  warnings.warn(f\"A NumPy version >={np_minversion} and <{np_maxversion}\"\n"
     ]
    }
   ],
   "source": [
    "from tensorflow.keras.models import Sequential\n",
    "from tensorflow.keras.layers import Conv2D, MaxPooling2D, Flatten, Dense\n",
    "import numpy as np\n",
    "import pandas as pd"
   ]
  },
  {
   "cell_type": "code",
   "execution_count": 13,
   "id": "2e788354",
   "metadata": {},
   "outputs": [],
   "source": [
    " def VGG16 (image_size):\n",
    "        #//////////////// first convolution layer //////////////////\n",
    "        VGG16_model = Sequential(name='VGG16')\n",
    "        VGG16_model.add(Conv2D(input_shape=image_size,filters=64,kernel_size=(3,3),padding='same',activation='relu'))\n",
    "        VGG16_model.add(Conv2D(filters=64,kernel_size=(3,3),padding='same',activation='relu'))\n",
    "        VGG16_model.add(MaxPooling2D(pool_size=(2,2),strides=(2,2)))\n",
    "        #//////////////// second convolution layer //////////////////\n",
    "        VGG16_model.add(Conv2D(filters=128,kernel_size=(3,3),padding='same',activation='relu'))\n",
    "        VGG16_model.add(Conv2D(filters=128,kernel_size=(3,3),padding='same',activation='relu'))\n",
    "        VGG16_model.add(MaxPooling2D(pool_size=(2,2),strides=(2,2)))\n",
    "        #//////////////// third convolution layer //////////////////\n",
    "        VGG16_model.add(Conv2D(filters=256,kernel_size=(3,3),padding='same',activation='relu'))\n",
    "        VGG16_model.add(Conv2D(filters=256,kernel_size=(3,3),padding='same',activation='relu'))\n",
    "        VGG16_model.add(Conv2D(filters=256,kernel_size=(3,3),padding='same',activation='relu'))\n",
    "        VGG16_model.add(MaxPooling2D(pool_size=(2,2),strides=(2,2)))\n",
    "        #//////////////// fourth convolution layer //////////////////\n",
    "        VGG16_model.add(Conv2D(filters=512,kernel_size=(3,3),padding='same',activation='relu'))\n",
    "        VGG16_model.add(Conv2D(filters=512,kernel_size=(3,3),padding='same',activation='relu'))\n",
    "        VGG16_model.add(Conv2D(filters=512,kernel_size=(3,3),padding='same',activation='relu'))\n",
    "        VGG16_model.add(MaxPooling2D(pool_size=(2,2),strides=(2,2)))\n",
    "        #//////////////// fifth convolution layer //////////////////\n",
    "        VGG16_model.add(Conv2D(filters=512,kernel_size=(3,3),padding='same',activation='relu'))\n",
    "        VGG16_model.add(Conv2D(filters=512,kernel_size=(3,3),padding='same',activation='relu'))\n",
    "        VGG16_model.add(Conv2D(filters=512,kernel_size=(3,3),padding='same',activation='relu'))\n",
    "        VGG16_model.add(MaxPooling2D(pool_size=(2,2),strides=(2,2)))\n",
    "        #//////////////// Fully connected layer //////////////////\n",
    "        VGG16_model.add(Flatten())\n",
    "        VGG16_model.add(Dense(units=4096,activation=\"relu\"))\n",
    "        VGG16_model.add(Dense(units=4096,activation=\"relu\"))\n",
    "        VGG16_model.add(Dense(units=2, activation=\"softmax\"))\n",
    "        return VGG16_model"
   ]
  },
  {
   "cell_type": "code",
   "execution_count": 21,
   "id": "931ee4e5",
   "metadata": {},
   "outputs": [],
   "source": [
    "VGG16_ = VGG16((128,128,1))"
   ]
  },
  {
   "cell_type": "code",
   "execution_count": 24,
   "id": "69487c34",
   "metadata": {},
   "outputs": [
    {
     "name": "stdout",
     "output_type": "stream",
     "text": [
      "Model: \"VGG16\"\n",
      "_________________________________________________________________\n",
      " Layer (type)                Output Shape              Param #   \n",
      "=================================================================\n",
      " conv2d_67 (Conv2D)          (None, 128, 128, 64)      640       \n",
      "                                                                 \n",
      " conv2d_68 (Conv2D)          (None, 128, 128, 64)      36928     \n",
      "                                                                 \n",
      " max_pooling2d_25 (MaxPoolin  (None, 64, 64, 64)       0         \n",
      " g2D)                                                            \n",
      "                                                                 \n",
      " conv2d_69 (Conv2D)          (None, 64, 64, 128)       73856     \n",
      "                                                                 \n",
      " conv2d_70 (Conv2D)          (None, 64, 64, 128)       147584    \n",
      "                                                                 \n",
      " max_pooling2d_26 (MaxPoolin  (None, 32, 32, 128)      0         \n",
      " g2D)                                                            \n",
      "                                                                 \n",
      " conv2d_71 (Conv2D)          (None, 32, 32, 256)       295168    \n",
      "                                                                 \n",
      " conv2d_72 (Conv2D)          (None, 32, 32, 256)       590080    \n",
      "                                                                 \n",
      " conv2d_73 (Conv2D)          (None, 32, 32, 256)       590080    \n",
      "                                                                 \n",
      " max_pooling2d_27 (MaxPoolin  (None, 16, 16, 256)      0         \n",
      " g2D)                                                            \n",
      "                                                                 \n",
      " conv2d_74 (Conv2D)          (None, 16, 16, 512)       1180160   \n",
      "                                                                 \n",
      " conv2d_75 (Conv2D)          (None, 16, 16, 512)       2359808   \n",
      "                                                                 \n",
      " conv2d_76 (Conv2D)          (None, 16, 16, 512)       2359808   \n",
      "                                                                 \n",
      " max_pooling2d_28 (MaxPoolin  (None, 8, 8, 512)        0         \n",
      " g2D)                                                            \n",
      "                                                                 \n",
      " conv2d_77 (Conv2D)          (None, 8, 8, 512)         2359808   \n",
      "                                                                 \n",
      " conv2d_78 (Conv2D)          (None, 8, 8, 512)         2359808   \n",
      "                                                                 \n",
      " conv2d_79 (Conv2D)          (None, 8, 8, 512)         2359808   \n",
      "                                                                 \n",
      " max_pooling2d_29 (MaxPoolin  (None, 4, 4, 512)        0         \n",
      " g2D)                                                            \n",
      "                                                                 \n",
      " flatten_3 (Flatten)         (None, 8192)              0         \n",
      "                                                                 \n",
      " dense_9 (Dense)             (None, 4096)              33558528  \n",
      "                                                                 \n",
      " dense_10 (Dense)            (None, 4096)              16781312  \n",
      "                                                                 \n",
      " dense_11 (Dense)            (None, 2)                 8194      \n",
      "                                                                 \n",
      "=================================================================\n",
      "Total params: 65,061,570\n",
      "Trainable params: 65,061,570\n",
      "Non-trainable params: 0\n",
      "_________________________________________________________________\n"
     ]
    }
   ],
   "source": [
    "VGG16_.summary()"
   ]
  },
  {
   "cell_type": "code",
   "execution_count": null,
   "id": "ff97b4d2",
   "metadata": {},
   "outputs": [],
   "source": []
  },
  {
   "cell_type": "code",
   "execution_count": null,
   "id": "6ce62fa7",
   "metadata": {},
   "outputs": [],
   "source": []
  }
 ],
 "metadata": {
  "kernelspec": {
   "display_name": "Python 3 (ipykernel)",
   "language": "python",
   "name": "python3"
  },
  "language_info": {
   "codemirror_mode": {
    "name": "ipython",
    "version": 3
   },
   "file_extension": ".py",
   "mimetype": "text/x-python",
   "name": "python",
   "nbconvert_exporter": "python",
   "pygments_lexer": "ipython3",
   "version": "3.9.7"
  }
 },
 "nbformat": 4,
 "nbformat_minor": 5
}
